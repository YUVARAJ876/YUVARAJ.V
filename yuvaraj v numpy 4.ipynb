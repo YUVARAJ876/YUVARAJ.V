{
 "cells": [
  {
   "cell_type": "code",
   "execution_count": 2,
   "id": "57d7110b",
   "metadata": {},
   "outputs": [
    {
     "name": "stdout",
     "output_type": "stream",
     "text": [
      "[10 20 30 40 50]\n",
      "[6 2 9 7 1]\n",
      "[16 22 39 47 51]\n",
      "[ 4 18 21 33 49]\n",
      "[ 60  40 270 280  50]\n",
      "[ 1.66666667 10.          3.33333333  5.71428571 50.        ]\n"
     ]
    }
   ],
   "source": [
    "import numpy as np\n",
    "arr1=[10,20,30,40,50]\n",
    "arr2=[6,2,9,7,1]\n",
    "a=np.array(arr1)\n",
    "b=np.array(arr2)\n",
    "print(a)\n",
    "print(b)\n",
    "print(a+b)\n",
    "print(a-b)\n",
    "print(a*b)\n",
    "print(a/b)"
   ]
  },
  {
   "cell_type": "code",
   "execution_count": 4,
   "id": "4a82d021",
   "metadata": {},
   "outputs": [
    {
     "name": "stdout",
     "output_type": "stream",
     "text": [
      "700\n",
      "sclar value: 3\n",
      "array: [10 20 30 40 50]\n",
      "result: [ 30  60  90 120 150]\n"
     ]
    }
   ],
   "source": [
    "print(a.dot(b))\n",
    "sclr=3\n",
    "print(\"sclar value:\",sclr)\n",
    "print(\"array:\",a)\n",
    "print(\"result:\",a*sclr)"
   ]
  },
  {
   "cell_type": "code",
   "execution_count": 7,
   "id": "f3133fbd",
   "metadata": {},
   "outputs": [
    {
     "name": "stdout",
     "output_type": "stream",
     "text": [
      "[[1 6]\n",
      " [0 4]]\n"
     ]
    }
   ],
   "source": [
    "import numpy as np\n",
    "a=np.array([[10,20],[30,40]])\n",
    "b=np.array([[3,7],[5,9]])\n",
    "print(a%b)"
   ]
  },
  {
   "cell_type": "code",
   "execution_count": 16,
   "id": "953579ad",
   "metadata": {},
   "outputs": [
    {
     "name": "stdout",
     "output_type": "stream",
     "text": [
      "array: [10, 20, 30, 40]\n",
      "array: [2, 10, 35, 25]\n",
      "result: [ 8 30 65 65]\n"
     ]
    }
   ],
   "source": [
    "def my_func(X,Y):\n",
    "    if X>>Y:\n",
    "        return X-Y\n",
    "    else:\n",
    "        return X+Y\n",
    "arr1=[10,20,30,40]\n",
    "arr2=[2,10,35,25]\n",
    "vect_func=np.vectorize(my_func)\n",
    "print(\"array:\",arr1)\n",
    "print(\"array:\",arr2)\n",
    "print(\"result:\",vect_func(arr1,arr2))"
   ]
  },
  {
   "cell_type": "code",
   "execution_count": null,
   "id": "c6960473",
   "metadata": {},
   "outputs": [],
   "source": []
  },
  {
   "cell_type": "code",
   "execution_count": null,
   "id": "a81529fc",
   "metadata": {},
   "outputs": [],
   "source": []
  }
 ],
 "metadata": {
  "kernelspec": {
   "display_name": "Python 3 (ipykernel)",
   "language": "python",
   "name": "python3"
  },
  "language_info": {
   "codemirror_mode": {
    "name": "ipython",
    "version": 3
   },
   "file_extension": ".py",
   "mimetype": "text/x-python",
   "name": "python",
   "nbconvert_exporter": "python",
   "pygments_lexer": "ipython3",
   "version": "3.11.4"
  }
 },
 "nbformat": 4,
 "nbformat_minor": 5
}
