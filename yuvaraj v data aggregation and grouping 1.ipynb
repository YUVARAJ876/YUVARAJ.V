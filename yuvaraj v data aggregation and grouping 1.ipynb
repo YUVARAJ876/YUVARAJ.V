{
 "cells": [
  {
   "cell_type": "code",
   "execution_count": 9,
   "id": "12b3d314",
   "metadata": {},
   "outputs": [
    {
     "name": "stdout",
     "output_type": "stream",
     "text": [
      "\n",
      " original DataFrame:\n",
      "       name categories  value  score\n",
      "0    alice          A      4     61\n",
      "1      bob          B      3     74\n",
      "2  charlie          C      1     89\n",
      "3    alice          A      1     61\n",
      "4      bob          B      2     98\n",
      "5  charlie          C      4     98\n",
      "\n",
      " Group and aggregation with one column:\n",
      "       name  value\n",
      "0    alice      5\n",
      "1      bob      5\n",
      "2  charlie      5\n"
     ]
    }
   ],
   "source": [
    "import numpy as np\n",
    "import pandas as pd\n",
    "df=pd.DataFrame({'name':['alice','bob','charlie','alice','bob','charlie'],'categories':['A','B','C','A','B','C'],'value':np.random.randint(1,5,size=6),'score':np.random.randint(60,100,size=6)})\n",
    "print(\"\\n original DataFrame:\\n\",df)\n",
    "df1=df.groupby(('name'),as_index=False)['value'].sum()\n",
    "print(\"\\n Group and aggregation with one column:\\n\",df1)"
   ]
  },
  {
   "cell_type": "code",
   "execution_count": 10,
   "id": "0a1dc81c",
   "metadata": {},
   "outputs": [
    {
     "name": "stdout",
     "output_type": "stream",
     "text": [
      "\n",
      " Group and aggregation with two column sum:\n",
      "       name  value  score\n",
      "0    alice      5    122\n",
      "1      bob      5    172\n",
      "2  charlie      5    187\n"
     ]
    }
   ],
   "source": [
    "df2=df.groupby(('name'),as_index=False)[['value','score']].sum()\n",
    "print(\"\\n Group and aggregation with two column sum:\\n\",df2)"
   ]
  },
  {
   "cell_type": "code",
   "execution_count": 12,
   "id": "0fa26f7a",
   "metadata": {},
   "outputs": [
    {
     "name": "stdout",
     "output_type": "stream",
     "text": [
      "\n",
      " Group and aggregation with two column sum:\n",
      "       name  value\n",
      "0    alice      5\n",
      "1      bob      5\n",
      "2  charlie      5\n"
     ]
    }
   ],
   "source": [
    "df3=df.groupby(('name'),as_index=False)['value'].agg('sum')\n",
    "print(\"\\n Group and aggregation with two column sum:\\n\",df3)                                      "
   ]
  },
  {
   "cell_type": "code",
   "execution_count": 13,
   "id": "112dd94e",
   "metadata": {},
   "outputs": [
    {
     "name": "stdout",
     "output_type": "stream",
     "text": [
      "\n",
      " Group by name multiple aggregation:\n",
      "         value              score      \n",
      "          sum mean min max   sum  mean\n",
      "name                                  \n",
      "alice       5  2.5   1   4   122  61.0\n",
      "bob         5  2.5   2   3   172  86.0\n",
      "charlie     5  2.5   1   4   187  93.5\n"
     ]
    }
   ],
   "source": [
    "df4=df.groupby('name').agg({'value':['sum','mean','min','max'],'score':['sum','mean']})\n",
    "print(\"\\n Group by name multiple aggregation:\\n\",df4)"
   ]
  },
  {
   "cell_type": "code",
   "execution_count": 17,
   "id": "60a124f6",
   "metadata": {},
   "outputs": [
    {
     "name": "stdout",
     "output_type": "stream",
     "text": [
      "\n",
      " Group and count:\n",
      "       name  value\n",
      "0    alice      2\n",
      "1      bob      2\n",
      "2  charlie      2\n"
     ]
    }
   ],
   "source": [
    "df5=df.groupby(('name'),as_index=False)['value'].count()\n",
    "print(\"\\n Group and count:\\n\",df5)"
   ]
  },
  {
   "cell_type": "code",
   "execution_count": 19,
   "id": "a63775a2",
   "metadata": {},
   "outputs": [
    {
     "name": "stdout",
     "output_type": "stream",
     "text": [
      "\n",
      " Group and count:\n",
      "          categories  value  score\n",
      "name                             \n",
      "alice             2      2      2\n",
      "bob               2      2      2\n",
      "charlie           2      2      2\n"
     ]
    }
   ],
   "source": [
    "df6=df.groupby(('name')).count()\n",
    "print(\"\\n Group and count:\\n\",df6)"
   ]
  },
  {
   "cell_type": "code",
   "execution_count": 22,
   "id": "a1581cef",
   "metadata": {},
   "outputs": [
    {
     "name": "stdout",
     "output_type": "stream",
     "text": [
      "\n",
      " Group and display first:\n",
      "       name  value\n",
      "0    alice      4\n",
      "1      bob      3\n",
      "2  charlie      1\n"
     ]
    }
   ],
   "source": [
    "df7=df.groupby(('name'),as_index=False)['value'].first()\n",
    "print(\"\\n Group and display first:\\n\",df7)"
   ]
  },
  {
   "cell_type": "code",
   "execution_count": 23,
   "id": "4daf8e9d",
   "metadata": {},
   "outputs": [
    {
     "name": "stdout",
     "output_type": "stream",
     "text": [
      "\n",
      " Group and count:\n",
      "         categories  value  score\n",
      "name                            \n",
      "alice            A      4     61\n",
      "bob              B      3     74\n",
      "charlie          C      1     89\n"
     ]
    }
   ],
   "source": [
    "df8=df.groupby(('name')).first()\n",
    "print(\"\\n Group and count:\\n\",df8)"
   ]
  },
  {
   "cell_type": "code",
   "execution_count": 27,
   "id": "c01aca16",
   "metadata": {},
   "outputs": [
    {
     "name": "stdout",
     "output_type": "stream",
     "text": [
      "\n",
      " Group and display from last:\n",
      "       name  value\n",
      "0    alice      1\n",
      "1      bob      2\n",
      "2  charlie      4\n"
     ]
    }
   ],
   "source": [
    "df9=df.groupby(('name'),as_index=False)['value'].last()\n",
    "print(\"\\n Group and display from last:\\n\",df9)"
   ]
  },
  {
   "cell_type": "code",
   "execution_count": 28,
   "id": "49cb61c7",
   "metadata": {},
   "outputs": [
    {
     "name": "stdout",
     "output_type": "stream",
     "text": [
      "\n",
      " Group and display from last:\n",
      "         categories  value  score\n",
      "name                            \n",
      "alice            A      1     61\n",
      "bob              B      2     98\n",
      "charlie          C      4     98\n"
     ]
    }
   ],
   "source": [
    "df10=df.groupby(('name')).last()\n",
    "print(\"\\n Group and display from last:\\n\",df10)"
   ]
  },
  {
   "cell_type": "code",
   "execution_count": null,
   "id": "f5308e31",
   "metadata": {},
   "outputs": [],
   "source": []
  }
 ],
 "metadata": {
  "kernelspec": {
   "display_name": "Python 3 (ipykernel)",
   "language": "python",
   "name": "python3"
  },
  "language_info": {
   "codemirror_mode": {
    "name": "ipython",
    "version": 3
   },
   "file_extension": ".py",
   "mimetype": "text/x-python",
   "name": "python",
   "nbconvert_exporter": "python",
   "pygments_lexer": "ipython3",
   "version": "3.11.4"
  }
 },
 "nbformat": 4,
 "nbformat_minor": 5
}
